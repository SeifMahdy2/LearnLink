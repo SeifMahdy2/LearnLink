{
 "cells": [
  {
   "cell_type": "code",
   "execution_count": 1,
   "metadata": {},
   "outputs": [],
   "source": [
    "import pandas as pd\n",
    "import joblib\n",
    "\n",
    "# Load the trained model\n",
    "model_path = \"knn_learning_style_model.pkl\"\n",
    "knn_model = joblib.load(model_path)\n",
    "\n",
    "# Load reference dataset to get feature structure\n",
    "reference_data_path = \"Processed_Grad_responses.xlsx\"  # Change this if needed\n",
    "reference_df = pd.read_excel(reference_data_path)\n",
    "\n",
    "# Drop learning style labels to get correct feature structure\n",
    "learning_style_columns = [\"Visual_Learner\", \"Auditory_Learner\", \"Kinesthetic_Learner\"]\n",
    "reference_df = reference_df.drop(columns=learning_style_columns, errors=\"ignore\")\n",
    "\n",
    "# Get the expected feature columns from the trained model\n",
    "expected_features = knn_model.feature_names_in_\n",
    "\n",
    "# Function to preprocess new user input\n",
    "def preprocess_input(user_data):\n",
    "    \"\"\"\n",
    "    Prepares a new user response for prediction by ensuring feature consistency.\n",
    "    \n",
    "    :param user_data: Dictionary containing user responses.\n",
    "    :return: Processed DataFrame ready for model prediction.\n",
    "    \"\"\"\n",
    "    # Convert user input to a DataFrame\n",
    "    user_df = pd.DataFrame([user_data])\n",
    "\n",
    "    # Combine with reference data for one-hot encoding consistency\n",
    "    combined_df = pd.concat([reference_df, user_df], ignore_index=True)\n",
    "    combined_df = pd.get_dummies(combined_df)  # Apply one-hot encoding\n",
    "\n",
    "    # Ensure user data has only the expected model features\n",
    "    for col in expected_features:\n",
    "        if col not in combined_df.columns:\n",
    "            combined_df[col] = 0  # Add missing columns with default value 0\n",
    "\n",
    "    # Drop any extra columns not expected by the model\n",
    "    processed_input = combined_df[expected_features]\n",
    "\n",
    "    # Return only the last row (user input)\n",
    "    return processed_input.iloc[-1:].reset_index(drop=True)\n",
    "\n",
    "# Function to predict learning style\n",
    "def predict_learning_style(user_data):\n",
    "    \"\"\"\n",
    "    Predicts the learning style based on user responses.\n",
    "    \n",
    "    :param user_data: Dictionary containing user responses.\n",
    "    :return: Dictionary with learning style predictions.\n",
    "    \"\"\"\n",
    "    # Preprocess the input\n",
    "    processed_input = preprocess_input(user_data)\n",
    "\n",
    "    # Make a prediction\n",
    "    prediction = knn_model.predict(processed_input)\n",
    "\n",
    "    # Convert prediction to readable format\n",
    "    learning_styles = [\"Visual Learner\", \"Auditory Learner\", \"Kinesthetic Learner\"]\n",
    "    predicted_styles = {learning_styles[i]: int(prediction[0][i]) for i in range(len(learning_styles))}\n",
    "\n",
    "    return predicted_styles\n"
   ]
  },
  {
   "cell_type": "code",
   "execution_count": null,
   "metadata": {},
   "outputs": [
    {
     "name": "stdout",
     "output_type": "stream",
     "text": [
      "Predicted Learning Style: {'Visual Learner': 0, 'Auditory Learner': 0, 'Kinesthetic Learner': 1}\n"
     ]
    }
   ],
   "source": [
    "new_user = {\n",
    "    \"How often do you benefit from visual aids (e.g., diagrams, animations)?\": 1,  # Rarely\n",
    "    \"Do you trust AI-based systems to provide personalized learning recommendations?\": 0,  # No\n",
    "    \"Do you prefer learning at your own pace or following a structured schedule?\": \"Following a structured schedule\",\n",
    "    \"How important is feedback to you while learning new material?\": 2,  # Moderately important\n",
    "    \"What motivates you to stay engaged with learning?\": \"Hands-on projects and real-world applications\",\n",
    "}\n",
    "\n",
    "\n",
    "predicted_learning_style_2 = predict_learning_style(new_user)\n",
    "print(\"Predicted Learning Style:\", predicted_learning_style_2)\n"
   ]
  }
 ],
 "metadata": {
  "kernelspec": {
   "display_name": "Main_env",
   "language": "python",
   "name": "python3"
  },
  "language_info": {
   "codemirror_mode": {
    "name": "ipython",
    "version": 3
   },
   "file_extension": ".py",
   "mimetype": "text/x-python",
   "name": "python",
   "nbconvert_exporter": "python",
   "pygments_lexer": "ipython3",
   "version": "3.9.20"
  }
 },
 "nbformat": 4,
 "nbformat_minor": 2
}
